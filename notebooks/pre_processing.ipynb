{
 "cells": [
  {
   "cell_type": "code",
   "execution_count": null,
   "id": "86da31e8",
   "metadata": {},
   "outputs": [
    {
     "name": "stdout",
     "output_type": "stream",
     "text": [
      "Processing file: /nvme1/hungdx/Lightning-hydra/logs/results/CL_benchmark/ConformerTCM_MDT_LoRA_exp_1.2_june9/AIHUB_FreeCommunication_june_week2_cnsl_lora_elevenlabs_xlsr_conformertcm_mdt_more_elevenlabs_ConformerTCM_MDT_LoRA_exp_1.2_june9.txt\n",
      "Processed file saved as: /nvme1/hungdx/Lightning-hydra/logs/results/CL_benchmark/ConformerTCM_MDT_LoRA_exp_1.2_june9/processed_AIHUB_FreeCommunication_june_week2_cnsl_lora_elevenlabs_xlsr_conformertcm_mdt_more_elevenlabs_ConformerTCM_MDT_LoRA_exp_1.2_june9.txt\n",
      "Original file renamed to: /nvme1/hungdx/Lightning-hydra/logs/results/CL_benchmark/ConformerTCM_MDT_LoRA_exp_1.2_june9/AIHUB_FreeCommunication_june_week2_cnsl_lora_elevenlabs_xlsr_conformertcm_mdt_more_elevenlabs_ConformerTCM_MDT_LoRA_exp_1.2_june9.txt.obsolete\n",
      "Processed file renamed to: /nvme1/hungdx/Lightning-hydra/logs/results/CL_benchmark/ConformerTCM_MDT_LoRA_exp_1.2_june9/AIHUB_FreeCommunication_june_week2_cnsl_lora_elevenlabs_xlsr_conformertcm_mdt_more_elevenlabs_ConformerTCM_MDT_LoRA_exp_1.2_june9.txt\n",
      "Processing file: /nvme1/hungdx/Lightning-hydra/logs/results/CL_benchmark/ConformerTCM_MDT_LoRA_exp_1.1_june9/AIHUB_FreeCommunication_june_week2_cnsl_lora_elevenlabs_xlsr_conformertcm_mdt_more_elevenlabs_ConformerTCM_MDT_LoRA_exp_1.1_june9.txt\n",
      "Processed file saved as: /nvme1/hungdx/Lightning-hydra/logs/results/CL_benchmark/ConformerTCM_MDT_LoRA_exp_1.1_june9/processed_AIHUB_FreeCommunication_june_week2_cnsl_lora_elevenlabs_xlsr_conformertcm_mdt_more_elevenlabs_ConformerTCM_MDT_LoRA_exp_1.1_june9.txt\n",
      "Original file renamed to: /nvme1/hungdx/Lightning-hydra/logs/results/CL_benchmark/ConformerTCM_MDT_LoRA_exp_1.1_june9/AIHUB_FreeCommunication_june_week2_cnsl_lora_elevenlabs_xlsr_conformertcm_mdt_more_elevenlabs_ConformerTCM_MDT_LoRA_exp_1.1_june9.txt.obsolete\n",
      "Processed file renamed to: /nvme1/hungdx/Lightning-hydra/logs/results/CL_benchmark/ConformerTCM_MDT_LoRA_exp_1.1_june9/AIHUB_FreeCommunication_june_week2_cnsl_lora_elevenlabs_xlsr_conformertcm_mdt_more_elevenlabs_ConformerTCM_MDT_LoRA_exp_1.1_june9.txt\n",
      "Processing file: /nvme1/hungdx/Lightning-hydra/logs/results/CL_benchmark/ConformerTCM_MDT_LoRA_exp_1.3_june10/AIHUB_FreeCommunication_june_week2_cnsl_lora_elevenlabs_xlsr_conformertcm_mdt_more_elevenlabs_ConformerTCM_MDT_LoRA_exp_1.3_june10.txt\n",
      "Processed file saved as: /nvme1/hungdx/Lightning-hydra/logs/results/CL_benchmark/ConformerTCM_MDT_LoRA_exp_1.3_june10/processed_AIHUB_FreeCommunication_june_week2_cnsl_lora_elevenlabs_xlsr_conformertcm_mdt_more_elevenlabs_ConformerTCM_MDT_LoRA_exp_1.3_june10.txt\n",
      "Original file renamed to: /nvme1/hungdx/Lightning-hydra/logs/results/CL_benchmark/ConformerTCM_MDT_LoRA_exp_1.3_june10/AIHUB_FreeCommunication_june_week2_cnsl_lora_elevenlabs_xlsr_conformertcm_mdt_more_elevenlabs_ConformerTCM_MDT_LoRA_exp_1.3_june10.txt.obsolete\n",
      "Processed file renamed to: /nvme1/hungdx/Lightning-hydra/logs/results/CL_benchmark/ConformerTCM_MDT_LoRA_exp_1.3_june10/AIHUB_FreeCommunication_june_week2_cnsl_lora_elevenlabs_xlsr_conformertcm_mdt_more_elevenlabs_ConformerTCM_MDT_LoRA_exp_1.3_june10.txt\n",
      "Processing file: /nvme1/hungdx/Lightning-hydra/logs/results/CL_benchmark/ConformerTCM_MDT_LoRA_exp_2.1_june10/AIHUB_FreeCommunication_june_week2_cnsl_lora_elevenlabs_xlsr_conformertcm_mdt_more_elevenlabs_ConformerTCM_MDT_LoRA_exp_2.1_june10.txt\n",
      "Processed file saved as: /nvme1/hungdx/Lightning-hydra/logs/results/CL_benchmark/ConformerTCM_MDT_LoRA_exp_2.1_june10/processed_AIHUB_FreeCommunication_june_week2_cnsl_lora_elevenlabs_xlsr_conformertcm_mdt_more_elevenlabs_ConformerTCM_MDT_LoRA_exp_2.1_june10.txt\n",
      "Original file renamed to: /nvme1/hungdx/Lightning-hydra/logs/results/CL_benchmark/ConformerTCM_MDT_LoRA_exp_2.1_june10/AIHUB_FreeCommunication_june_week2_cnsl_lora_elevenlabs_xlsr_conformertcm_mdt_more_elevenlabs_ConformerTCM_MDT_LoRA_exp_2.1_june10.txt.obsolete\n",
      "Processed file renamed to: /nvme1/hungdx/Lightning-hydra/logs/results/CL_benchmark/ConformerTCM_MDT_LoRA_exp_2.1_june10/AIHUB_FreeCommunication_june_week2_cnsl_lora_elevenlabs_xlsr_conformertcm_mdt_more_elevenlabs_ConformerTCM_MDT_LoRA_exp_2.1_june10.txt\n",
      "Processing file: /nvme1/hungdx/Lightning-hydra/logs/results/CL_benchmark/ConformerTCM_MDT_LoRA_LargeCorpus_MoreElevenlabs/AIHUB_FreeCommunication_june_week2_cnsl_lora_elevenlabs_xlsr_conformertcm_mdt_more_elevenlabs_ConformerTCM_MDT_LoRA_LargeCorpus_MoreElevenlabs.txt\n",
      "Processed file saved as: /nvme1/hungdx/Lightning-hydra/logs/results/CL_benchmark/ConformerTCM_MDT_LoRA_LargeCorpus_MoreElevenlabs/processed_AIHUB_FreeCommunication_june_week2_cnsl_lora_elevenlabs_xlsr_conformertcm_mdt_more_elevenlabs_ConformerTCM_MDT_LoRA_LargeCorpus_MoreElevenlabs.txt\n",
      "Original file renamed to: /nvme1/hungdx/Lightning-hydra/logs/results/CL_benchmark/ConformerTCM_MDT_LoRA_LargeCorpus_MoreElevenlabs/AIHUB_FreeCommunication_june_week2_cnsl_lora_elevenlabs_xlsr_conformertcm_mdt_more_elevenlabs_ConformerTCM_MDT_LoRA_LargeCorpus_MoreElevenlabs.txt.obsolete\n",
      "Processed file renamed to: /nvme1/hungdx/Lightning-hydra/logs/results/CL_benchmark/ConformerTCM_MDT_LoRA_LargeCorpus_MoreElevenlabs/AIHUB_FreeCommunication_june_week2_cnsl_lora_elevenlabs_xlsr_conformertcm_mdt_more_elevenlabs_ConformerTCM_MDT_LoRA_LargeCorpus_MoreElevenlabs.txt\n",
      "Processing file: /nvme1/hungdx/Lightning-hydra/logs/results/CL_benchmark/ConformerTCM_MDT_LoRA_exp_2.1_june17/AIHUB_FreeCommunication_june_week2_cnsl_lora_elevenlabs_xlsr_conformertcm_mdt_more_elevenlabs_ConformerTCM_MDT_LoRA_exp_2.1_june17.txt\n",
      "Processed file saved as: /nvme1/hungdx/Lightning-hydra/logs/results/CL_benchmark/ConformerTCM_MDT_LoRA_exp_2.1_june17/processed_AIHUB_FreeCommunication_june_week2_cnsl_lora_elevenlabs_xlsr_conformertcm_mdt_more_elevenlabs_ConformerTCM_MDT_LoRA_exp_2.1_june17.txt\n",
      "Original file renamed to: /nvme1/hungdx/Lightning-hydra/logs/results/CL_benchmark/ConformerTCM_MDT_LoRA_exp_2.1_june17/AIHUB_FreeCommunication_june_week2_cnsl_lora_elevenlabs_xlsr_conformertcm_mdt_more_elevenlabs_ConformerTCM_MDT_LoRA_exp_2.1_june17.txt.obsolete\n",
      "Processed file renamed to: /nvme1/hungdx/Lightning-hydra/logs/results/CL_benchmark/ConformerTCM_MDT_LoRA_exp_2.1_june17/AIHUB_FreeCommunication_june_week2_cnsl_lora_elevenlabs_xlsr_conformertcm_mdt_more_elevenlabs_ConformerTCM_MDT_LoRA_exp_2.1_june17.txt\n",
      "Processing file: /nvme1/hungdx/Lightning-hydra/logs/results/CL_benchmark/ConformerTCM_MDT_LoRA_exp_2.3_june17/AIHUB_FreeCommunication_june_week2_cnsl_lora_elevenlabs_xlsr_conformertcm_mdt_more_elevenlabs_ConformerTCM_MDT_LoRA_exp_2.3_june17.txt\n",
      "Processed file saved as: /nvme1/hungdx/Lightning-hydra/logs/results/CL_benchmark/ConformerTCM_MDT_LoRA_exp_2.3_june17/processed_AIHUB_FreeCommunication_june_week2_cnsl_lora_elevenlabs_xlsr_conformertcm_mdt_more_elevenlabs_ConformerTCM_MDT_LoRA_exp_2.3_june17.txt\n",
      "Original file renamed to: /nvme1/hungdx/Lightning-hydra/logs/results/CL_benchmark/ConformerTCM_MDT_LoRA_exp_2.3_june17/AIHUB_FreeCommunication_june_week2_cnsl_lora_elevenlabs_xlsr_conformertcm_mdt_more_elevenlabs_ConformerTCM_MDT_LoRA_exp_2.3_june17.txt.obsolete\n",
      "Processed file renamed to: /nvme1/hungdx/Lightning-hydra/logs/results/CL_benchmark/ConformerTCM_MDT_LoRA_exp_2.3_june17/AIHUB_FreeCommunication_june_week2_cnsl_lora_elevenlabs_xlsr_conformertcm_mdt_more_elevenlabs_ConformerTCM_MDT_LoRA_exp_2.3_june17.txt\n",
      "Processing file: /nvme1/hungdx/Lightning-hydra/logs/results/CL_benchmark/ConformerTCM_MDT_LoRA_exp_2.2_june17/AIHUB_FreeCommunication_june_week2_cnsl_lora_elevenlabs_xlsr_conformertcm_mdt_more_elevenlabs_ConformerTCM_MDT_LoRA_exp_2.2_june17.txt\n",
      "Processed file saved as: /nvme1/hungdx/Lightning-hydra/logs/results/CL_benchmark/ConformerTCM_MDT_LoRA_exp_2.2_june17/processed_AIHUB_FreeCommunication_june_week2_cnsl_lora_elevenlabs_xlsr_conformertcm_mdt_more_elevenlabs_ConformerTCM_MDT_LoRA_exp_2.2_june17.txt\n",
      "Original file renamed to: /nvme1/hungdx/Lightning-hydra/logs/results/CL_benchmark/ConformerTCM_MDT_LoRA_exp_2.2_june17/AIHUB_FreeCommunication_june_week2_cnsl_lora_elevenlabs_xlsr_conformertcm_mdt_more_elevenlabs_ConformerTCM_MDT_LoRA_exp_2.2_june17.txt.obsolete\n",
      "Processed file renamed to: /nvme1/hungdx/Lightning-hydra/logs/results/CL_benchmark/ConformerTCM_MDT_LoRA_exp_2.2_june17/AIHUB_FreeCommunication_june_week2_cnsl_lora_elevenlabs_xlsr_conformertcm_mdt_more_elevenlabs_ConformerTCM_MDT_LoRA_exp_2.2_june17.txt\n",
      "Processing complete.\n",
      "All directories processed.\n"
     ]
    }
   ],
   "source": [
    "import os\n",
    "\n",
    "BENCHMARK_DIR = '/nvme1/hungdx/Lightning-hydra/logs/results/CL_benchmark'\n",
    "\n",
    "benchmark_dir = os.listdir(BENCHMARK_DIR)\n",
    "\n",
    "for dir_name in benchmark_dir:\n",
    "    dir_path = os.path.join(BENCHMARK_DIR, dir_name)\n",
    "    # Check if inside the directory there is a file named startwith 'AIHUB_FreeCommunication_june_week2' then using pandas to read the csv file\n",
    "    if os.path.isdir(dir_path):\n",
    "        for file_name in os.listdir(dir_path):\n",
    "            if file_name.startswith('AIHUB_FreeCommunication_june_week2'):\n",
    "                file_path = os.path.join(dir_path, file_name)\n",
    "                print(f\"Processing file: {file_path}\")\n",
    "                # Here you can add code to read the CSV file using pandas or any other processing you need\n",
    "                # For example:\n",
    "                import pandas as pd\n",
    "                df = pd.read_csv(file_path, header=None, names=[\"path\", \"spoof\", \"score\"])\n",
    "            \n",
    "                df = df[~df[\"path\"].str.startswith((\"Spoof/a09\", \"Spoof/a10\", \"Spoof/a11\", \"Spoof/a12\", \"Spoof/a13\"))]\n",
    "                \n",
    "                # Save the modified DataFrame to a new CSV file\n",
    "                output_file_path = os.path.join(dir_path, f\"processed_{file_name}\")\n",
    "                df.to_csv(output_file_path, index=False, header=False, sep=\" \")\n",
    "                print(f\"Processed file saved as: {output_file_path}\")\n",
    "                \n",
    "                # Rename the original file to show that it is obsolete\n",
    "                os.rename(file_path, file_path + \".obsolete\")\n",
    "                print(f\"Original file renamed to: {file_path}.obsolete\")\n",
    "                \n",
    "                # rename the processed file to the original file name\n",
    "                os.rename(output_file_path, file_path)\n",
    "                print(f\"Processed file renamed to: {file_path}\")\n",
    "                break  # Exit the loop after processing the first matching file in the directory\n",
    "        else:\n",
    "            print(f\"No matching file found in directory: {dir_path}\")\n",
    "    else:\n",
    "        print(f\"Skipping non-directory: {dir_path}\")\n",
    "print(\"Processing complete.\")\n",
    "print(\"All directories processed.\")\n"
   ]
  }
 ],
 "metadata": {
  "kernelspec": {
   "display_name": "base",
   "language": "python",
   "name": "python3"
  },
  "language_info": {
   "codemirror_mode": {
    "name": "ipython",
    "version": 3
   },
   "file_extension": ".py",
   "mimetype": "text/x-python",
   "name": "python",
   "nbconvert_exporter": "python",
   "pygments_lexer": "ipython3",
   "version": "3.12.9"
  }
 },
 "nbformat": 4,
 "nbformat_minor": 5
}
