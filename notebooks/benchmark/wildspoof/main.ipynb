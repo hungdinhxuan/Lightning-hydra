{
 "cells": [
  {
   "cell_type": "code",
   "execution_count": 6,
   "id": "e285bb87",
   "metadata": {},
   "outputs": [
    {
     "name": "stdout",
     "output_type": "stream",
     "text": [
      "Train SET\n",
      "EER: 4.48%\n",
      "Dev SET\n",
      "EER: 4.11%\n",
      "EVAL SET\n",
      "EER: 4.28%\n"
     ]
    }
   ],
   "source": [
    "import os\n",
    "import sys\n",
    "import numpy as np\n",
    "import pandas as pd\n",
    "\n",
    "\n",
    "\n",
    "scores_df = pd.read_csv(\"/nvme1/hungdx/Lightning-hydra/logs/results/wildspoof_challenge_benchmark/ConformerTCM_MDT_LoRA_LargeCorpus_MoreElevenlabs_eval_Full_set_2.6M/spoofceleb_cnsl_lora_elevenlabs_xlsr_conformertcm_mdt_more_elevenlabs_ConformerTCM_MDT_LoRA_LargeCorpus_MoreElevenlabs_eval_Full_set_2.6M.txt\", sep=\" \", header=None)\n",
    "scores_df.columns = [\"utt_id\", \"spoof_score\", \"bonafide_score\"]\n",
    "\n",
    "protocol_df = pd.read_csv(\"/nvme1/hungdx/Lightning-hydra/data/spoofceleb/protocol/protocol.txt\", sep=\" \", header=None)\n",
    "protocol_df.columns = [\"utt_id\", \"subset\", \"label\"]\n",
    "\n",
    "# Merge scores_df and protocol_df\n",
    "merged_df = pd.merge(scores_df, protocol_df, on=\"utt_id\", how=\"left\")\n",
    "\n",
    "# Filter only subset = \"eval\"\n",
    "eval_merged_df = merged_df[merged_df[\"subset\"] == \"eval\"]\n",
    "train_merged_df = merged_df[merged_df[\"subset\"] == \"train\"]\n",
    "dev_merged_df = merged_df[merged_df[\"subset\"] == \"dev\"]\n",
    "\n",
    "\n",
    "# Calculate EER\n",
    "from eval_metrics_DF import compute_eer\n",
    "\n",
    "print(\"Train SET\")\n",
    "bona_cm = train_merged_df[train_merged_df['label'] == 'bonafide']['bonafide_score'].values\n",
    "spoof_cm = train_merged_df[train_merged_df['label'] == 'spoof']['bonafide_score'].values\n",
    "\n",
    "eer, threshold = compute_eer(bona_cm, spoof_cm)\n",
    "print(f\"EER: {eer * 100:.2f}%\")\n",
    "\n",
    "print(\"Dev SET\")\n",
    "bona_cm = dev_merged_df[dev_merged_df['label'] == 'bonafide']['bonafide_score'].values\n",
    "spoof_cm = dev_merged_df[dev_merged_df['label'] == 'spoof']['bonafide_score'].values\n",
    "\n",
    "eer, threshold = compute_eer(bona_cm, spoof_cm)\n",
    "print(f\"EER: {eer * 100:.2f}%\")\n",
    "\n",
    "print(\"EVAL SET\")\n",
    "bona_cm = eval_merged_df[eval_merged_df['label'] == 'bonafide']['bonafide_score'].values\n",
    "spoof_cm = eval_merged_df[eval_merged_df['label'] == 'spoof']['bonafide_score'].values\n",
    "\n",
    "eer, threshold = compute_eer(bona_cm, spoof_cm)\n",
    "print(f\"EER: {eer * 100:.2f}%\")\n"
   ]
  }
 ],
 "metadata": {
  "kernelspec": {
   "display_name": "base",
   "language": "python",
   "name": "python3"
  },
  "language_info": {
   "codemirror_mode": {
    "name": "ipython",
    "version": 3
   },
   "file_extension": ".py",
   "mimetype": "text/x-python",
   "name": "python",
   "nbconvert_exporter": "python",
   "pygments_lexer": "ipython3",
   "version": "3.12.9"
  }
 },
 "nbformat": 4,
 "nbformat_minor": 5
}
