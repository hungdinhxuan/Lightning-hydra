{
 "cells": [
  {
   "cell_type": "code",
   "execution_count": 1,
   "metadata": {},
   "outputs": [
    {
     "name": "stderr",
     "output_type": "stream",
     "text": [
      "Processing audio files:   0%|          | 0/31779 [00:00<?, ?it/s]/tmp/ipykernel_3393222/3850030267.py:28: FutureWarning: get_duration() keyword argument 'filename' has been renamed to 'path' in version 0.10.0.\n",
      "\tThis alias will be removed in version 1.0.\n",
      "  duration = librosa.get_duration(filename=audio_path)\n",
      "Processing audio files: 100%|██████████| 31779/31779 [02:46<00:00, 190.63it/s]"
     ]
    },
    {
     "name": "stdout",
     "output_type": "stream",
     "text": [
      "Results written to in_the_wild_durations.csv\n"
     ]
    },
    {
     "name": "stderr",
     "output_type": "stream",
     "text": [
      "\n"
     ]
    }
   ],
   "source": [
    "import os\n",
    "import librosa\n",
    "import csv\n",
    "from tqdm import tqdm\n",
    "\n",
    "def get_audio_durations(audio_folder, output_csv):\n",
    "    \"\"\"\n",
    "    Calculate duration of each audio file in the folder and write results to CSV\n",
    "    \n",
    "    Parameters:\n",
    "        audio_folder (str): Path to folder containing audio files\n",
    "        output_csv (str): Path to output CSV file\n",
    "    \"\"\"\n",
    "    \n",
    "    # Get list of audio files\n",
    "    audio_files = [f for f in os.listdir(audio_folder) if f.endswith(('.wav', '.mp3', '.flac'))]\n",
    "    \n",
    "    # Open CSV file to write results\n",
    "    with open(output_csv, 'w', newline='') as csvfile:\n",
    "        writer = csv.writer(csvfile)\n",
    "        writer.writerow(['filename', 'duration'])  # Write header\n",
    "        \n",
    "        # Process each audio file with progress bar\n",
    "        for audio_file in tqdm(audio_files, desc=\"Processing audio files\"):\n",
    "            try:\n",
    "                # Load audio file and get duration\n",
    "                audio_path = os.path.join(audio_folder, audio_file)\n",
    "                duration = librosa.get_duration(filename=audio_path)\n",
    "                \n",
    "                # Write result to CSV\n",
    "                writer.writerow([audio_file, f\"{duration:.2f}\"])\n",
    "                \n",
    "            except Exception as e:\n",
    "                print(f\"Error processing {audio_file}: {str(e)}\")\n",
    "\n",
    "if __name__ == \"__main__\":\n",
    "    # Example usage\n",
    "    audio_folder = \"/data/hungdx/Lightning-hydra/data/in_the_wild\"\n",
    "    output_csv = \"in_the_wild_durations.csv\"\n",
    "    \n",
    "    get_audio_durations(audio_folder, output_csv)\n",
    "    print(f\"Results written to {output_csv}\")"
   ]
  },
  {
   "cell_type": "code",
   "execution_count": 3,
   "metadata": {},
   "outputs": [
    {
     "name": "stdout",
     "output_type": "stream",
     "text": [
      "Average duration:  4.287989552849366\n"
     ]
    }
   ],
   "source": [
    "import pandas as pd\n",
    "\n",
    "df = pd.read_csv('in_the_wild_durations.csv')\n",
    "\n",
    "print(\"Average duration: \", df['duration'].mean())\n"
   ]
  }
 ],
 "metadata": {
  "kernelspec": {
   "display_name": "asvspoof5",
   "language": "python",
   "name": "python3"
  },
  "language_info": {
   "codemirror_mode": {
    "name": "ipython",
    "version": 3
   },
   "file_extension": ".py",
   "mimetype": "text/x-python",
   "name": "python",
   "nbconvert_exporter": "python",
   "pygments_lexer": "ipython3",
   "version": "3.9.19"
  }
 },
 "nbformat": 4,
 "nbformat_minor": 2
}
